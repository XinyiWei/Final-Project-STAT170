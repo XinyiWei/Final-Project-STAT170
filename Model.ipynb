{
 "cells": [
  {
   "cell_type": "code",
   "execution_count": 190,
   "metadata": {},
   "outputs": [],
   "source": [
    "import pyspark\n",
    "import pandas as pd\n",
    "import numpy as np\n",
    "import matplotlib as mpl\n",
    "import matplotlib.pyplot as plt\n",
    "import seaborn as sns\n",
    "\n",
    "# import relevant parts of sklearn\n",
    "from sklearn import cluster, datasets\n",
    "from sklearn.preprocessing import scale\n",
    "from sklearn.decomposition import PCA\n",
    "from sklearn.cluster import KMeans\n",
    "\n",
    "from scipy.cluster import hierarchy\n",
    "\n",
    "%matplotlib inline\n",
    "plt.style.use('seaborn-whitegrid')\n",
    "\n",
    "import seaborn as sns\n",
    "\n",
    "import matplotlib.pyplot as plt\n",
    "sns.set(style=\"white\", color_codes=True)\n",
    "%matplotlib inline"
   ]
  },
  {
   "cell_type": "code",
   "execution_count": 191,
   "metadata": {},
   "outputs": [],
   "source": [
    "data=pd.read_csv(\"fulltextdata_2.csv\")"
   ]
  },
  {
   "cell_type": "code",
   "execution_count": 192,
   "metadata": {},
   "outputs": [
    {
     "data": {
      "text/html": [
       "<div>\n",
       "<style scoped>\n",
       "    .dataframe tbody tr th:only-of-type {\n",
       "        vertical-align: middle;\n",
       "    }\n",
       "\n",
       "    .dataframe tbody tr th {\n",
       "        vertical-align: top;\n",
       "    }\n",
       "\n",
       "    .dataframe thead th {\n",
       "        text-align: right;\n",
       "    }\n",
       "</style>\n",
       "<table border=\"1\" class=\"dataframe\">\n",
       "  <thead>\n",
       "    <tr style=\"text-align: right;\">\n",
       "      <th></th>\n",
       "      <th>create</th>\n",
       "      <th>geo_tag_city_name</th>\n",
       "      <th>counts</th>\n",
       "      <th>Population</th>\n",
       "      <th>INCOME</th>\n",
       "      <th>percentage</th>\n",
       "      <th>Walk_Score</th>\n",
       "      <th>Bike_Score</th>\n",
       "      <th>WORKDAY</th>\n",
       "      <th>Area</th>\n",
       "      <th>AQI_VALUE</th>\n",
       "      <th>ELEVATION</th>\n",
       "      <th>PRCP</th>\n",
       "      <th>TMAX</th>\n",
       "      <th>season</th>\n",
       "      <th>COUNT_BY_POPULATION</th>\n",
       "    </tr>\n",
       "  </thead>\n",
       "  <tbody>\n",
       "    <tr>\n",
       "      <th>0</th>\n",
       "      <td>2016-01-01</td>\n",
       "      <td>Alameda</td>\n",
       "      <td>2</td>\n",
       "      <td>78246</td>\n",
       "      <td>93427</td>\n",
       "      <td>0.676553</td>\n",
       "      <td>65</td>\n",
       "      <td>73</td>\n",
       "      <td>0.0</td>\n",
       "      <td>27.5</td>\n",
       "      <td>50.271697</td>\n",
       "      <td>155.045081</td>\n",
       "      <td>0.0</td>\n",
       "      <td>57.356678</td>\n",
       "      <td>3</td>\n",
       "      <td>2.556041</td>\n",
       "    </tr>\n",
       "    <tr>\n",
       "      <th>1</th>\n",
       "      <td>2016-01-01</td>\n",
       "      <td>Berkeley</td>\n",
       "      <td>6</td>\n",
       "      <td>120179</td>\n",
       "      <td>114720</td>\n",
       "      <td>0.676553</td>\n",
       "      <td>81</td>\n",
       "      <td>85</td>\n",
       "      <td>0.0</td>\n",
       "      <td>27.1</td>\n",
       "      <td>50.271697</td>\n",
       "      <td>349.900000</td>\n",
       "      <td>0.0</td>\n",
       "      <td>57.356678</td>\n",
       "      <td>3</td>\n",
       "      <td>4.992553</td>\n",
       "    </tr>\n",
       "    <tr>\n",
       "      <th>2</th>\n",
       "      <td>2016-01-01</td>\n",
       "      <td>Dublin</td>\n",
       "      <td>4</td>\n",
       "      <td>57022</td>\n",
       "      <td>128737</td>\n",
       "      <td>0.676553</td>\n",
       "      <td>34</td>\n",
       "      <td>56</td>\n",
       "      <td>0.0</td>\n",
       "      <td>38.6</td>\n",
       "      <td>50.271697</td>\n",
       "      <td>155.045081</td>\n",
       "      <td>0.0</td>\n",
       "      <td>57.356678</td>\n",
       "      <td>3</td>\n",
       "      <td>7.014836</td>\n",
       "    </tr>\n",
       "    <tr>\n",
       "      <th>3</th>\n",
       "      <td>2016-01-01</td>\n",
       "      <td>Fremont</td>\n",
       "      <td>1</td>\n",
       "      <td>230964</td>\n",
       "      <td>112347</td>\n",
       "      <td>0.676553</td>\n",
       "      <td>44</td>\n",
       "      <td>49</td>\n",
       "      <td>0.0</td>\n",
       "      <td>200.6</td>\n",
       "      <td>50.271697</td>\n",
       "      <td>9.100000</td>\n",
       "      <td>0.0</td>\n",
       "      <td>57.356678</td>\n",
       "      <td>3</td>\n",
       "      <td>0.432968</td>\n",
       "    </tr>\n",
       "    <tr>\n",
       "      <th>4</th>\n",
       "      <td>2016-01-01</td>\n",
       "      <td>Hayward</td>\n",
       "      <td>1</td>\n",
       "      <td>156917</td>\n",
       "      <td>69415</td>\n",
       "      <td>0.676553</td>\n",
       "      <td>53</td>\n",
       "      <td>52</td>\n",
       "      <td>0.0</td>\n",
       "      <td>117.4</td>\n",
       "      <td>50.271697</td>\n",
       "      <td>155.045081</td>\n",
       "      <td>0.0</td>\n",
       "      <td>57.356678</td>\n",
       "      <td>3</td>\n",
       "      <td>0.637280</td>\n",
       "    </tr>\n",
       "    <tr>\n",
       "      <th>5</th>\n",
       "      <td>2016-01-01</td>\n",
       "      <td>Livermore</td>\n",
       "      <td>1</td>\n",
       "      <td>88232</td>\n",
       "      <td>111950</td>\n",
       "      <td>0.676553</td>\n",
       "      <td>37</td>\n",
       "      <td>64</td>\n",
       "      <td>0.0</td>\n",
       "      <td>65.2</td>\n",
       "      <td>41.000000</td>\n",
       "      <td>146.300000</td>\n",
       "      <td>0.0</td>\n",
       "      <td>46.000000</td>\n",
       "      <td>3</td>\n",
       "      <td>1.133376</td>\n",
       "    </tr>\n",
       "    <tr>\n",
       "      <th>6</th>\n",
       "      <td>2016-01-01</td>\n",
       "      <td>Newark</td>\n",
       "      <td>4</td>\n",
       "      <td>45554</td>\n",
       "      <td>91103</td>\n",
       "      <td>0.676553</td>\n",
       "      <td>47</td>\n",
       "      <td>45</td>\n",
       "      <td>0.0</td>\n",
       "      <td>35.9</td>\n",
       "      <td>50.271697</td>\n",
       "      <td>155.045081</td>\n",
       "      <td>0.0</td>\n",
       "      <td>57.356678</td>\n",
       "      <td>3</td>\n",
       "      <td>8.780788</td>\n",
       "    </tr>\n",
       "    <tr>\n",
       "      <th>7</th>\n",
       "      <td>2016-01-01</td>\n",
       "      <td>Oakland</td>\n",
       "      <td>8</td>\n",
       "      <td>417442</td>\n",
       "      <td>60472</td>\n",
       "      <td>0.676553</td>\n",
       "      <td>72</td>\n",
       "      <td>65</td>\n",
       "      <td>0.0</td>\n",
       "      <td>144.5</td>\n",
       "      <td>13.000000</td>\n",
       "      <td>120.400000</td>\n",
       "      <td>0.0</td>\n",
       "      <td>57.356678</td>\n",
       "      <td>3</td>\n",
       "      <td>1.916434</td>\n",
       "    </tr>\n",
       "    <tr>\n",
       "      <th>8</th>\n",
       "      <td>2016-01-01</td>\n",
       "      <td>San Leandro</td>\n",
       "      <td>1</td>\n",
       "      <td>89910</td>\n",
       "      <td>76781</td>\n",
       "      <td>0.676553</td>\n",
       "      <td>62</td>\n",
       "      <td>55</td>\n",
       "      <td>0.0</td>\n",
       "      <td>34.6</td>\n",
       "      <td>50.271697</td>\n",
       "      <td>155.045081</td>\n",
       "      <td>0.0</td>\n",
       "      <td>57.356678</td>\n",
       "      <td>3</td>\n",
       "      <td>1.112223</td>\n",
       "    </tr>\n",
       "    <tr>\n",
       "      <th>9</th>\n",
       "      <td>2016-01-01</td>\n",
       "      <td>Union City</td>\n",
       "      <td>2</td>\n",
       "      <td>74354</td>\n",
       "      <td>93050</td>\n",
       "      <td>0.676553</td>\n",
       "      <td>44</td>\n",
       "      <td>49</td>\n",
       "      <td>0.0</td>\n",
       "      <td>50.4</td>\n",
       "      <td>50.271697</td>\n",
       "      <td>155.045081</td>\n",
       "      <td>0.0</td>\n",
       "      <td>57.356678</td>\n",
       "      <td>3</td>\n",
       "      <td>2.689835</td>\n",
       "    </tr>\n",
       "  </tbody>\n",
       "</table>\n",
       "</div>"
      ],
      "text/plain": [
       "       create geo_tag_city_name  counts  Population  INCOME  percentage  \\\n",
       "0  2016-01-01           Alameda       2       78246   93427    0.676553   \n",
       "1  2016-01-01          Berkeley       6      120179  114720    0.676553   \n",
       "2  2016-01-01            Dublin       4       57022  128737    0.676553   \n",
       "3  2016-01-01           Fremont       1      230964  112347    0.676553   \n",
       "4  2016-01-01           Hayward       1      156917   69415    0.676553   \n",
       "5  2016-01-01         Livermore       1       88232  111950    0.676553   \n",
       "6  2016-01-01            Newark       4       45554   91103    0.676553   \n",
       "7  2016-01-01           Oakland       8      417442   60472    0.676553   \n",
       "8  2016-01-01       San Leandro       1       89910   76781    0.676553   \n",
       "9  2016-01-01        Union City       2       74354   93050    0.676553   \n",
       "\n",
       "   Walk_Score  Bike_Score  WORKDAY   Area  AQI_VALUE   ELEVATION  PRCP  \\\n",
       "0          65          73      0.0   27.5  50.271697  155.045081   0.0   \n",
       "1          81          85      0.0   27.1  50.271697  349.900000   0.0   \n",
       "2          34          56      0.0   38.6  50.271697  155.045081   0.0   \n",
       "3          44          49      0.0  200.6  50.271697    9.100000   0.0   \n",
       "4          53          52      0.0  117.4  50.271697  155.045081   0.0   \n",
       "5          37          64      0.0   65.2  41.000000  146.300000   0.0   \n",
       "6          47          45      0.0   35.9  50.271697  155.045081   0.0   \n",
       "7          72          65      0.0  144.5  13.000000  120.400000   0.0   \n",
       "8          62          55      0.0   34.6  50.271697  155.045081   0.0   \n",
       "9          44          49      0.0   50.4  50.271697  155.045081   0.0   \n",
       "\n",
       "        TMAX  season  COUNT_BY_POPULATION  \n",
       "0  57.356678       3             2.556041  \n",
       "1  57.356678       3             4.992553  \n",
       "2  57.356678       3             7.014836  \n",
       "3  57.356678       3             0.432968  \n",
       "4  57.356678       3             0.637280  \n",
       "5  46.000000       3             1.133376  \n",
       "6  57.356678       3             8.780788  \n",
       "7  57.356678       3             1.916434  \n",
       "8  57.356678       3             1.112223  \n",
       "9  57.356678       3             2.689835  "
      ]
     },
     "execution_count": 192,
     "metadata": {},
     "output_type": "execute_result"
    }
   ],
   "source": [
    "data.head(10)"
   ]
  },
  {
   "cell_type": "code",
   "execution_count": 193,
   "metadata": {
    "scrolled": false
   },
   "outputs": [],
   "source": [
    "data=data.dropna()\n",
    "data=data.drop_duplicates(['create','geo_tag_city_name'])"
   ]
  },
  {
   "cell_type": "code",
   "execution_count": 194,
   "metadata": {},
   "outputs": [
    {
     "data": {
      "text/plain": [
       "create                 180458\n",
       "geo_tag_city_name      180458\n",
       "counts                 180458\n",
       "Population             180458\n",
       "INCOME                 180458\n",
       "percentage             180458\n",
       "Walk_Score             180458\n",
       "Bike_Score             180458\n",
       "WORKDAY                180458\n",
       "Area                   180458\n",
       "AQI_VALUE              180458\n",
       "ELEVATION              180458\n",
       "PRCP                   180458\n",
       "TMAX                   180458\n",
       "season                 180458\n",
       "COUNT_BY_POPULATION    180458\n",
       "dtype: int64"
      ]
     },
     "execution_count": 194,
     "metadata": {},
     "output_type": "execute_result"
    }
   ],
   "source": [
    "NEW=data\n",
    "NEW.count()"
   ]
  },
  {
   "cell_type": "markdown",
   "metadata": {},
   "source": [
    "# Creat x and y (non-dummy)"
   ]
  },
  {
   "cell_type": "code",
   "execution_count": 195,
   "metadata": {},
   "outputs": [],
   "source": [
    "DA=NEW.drop(columns=['Population'])\n",
    "data_new_x=DA.drop(columns=['create','counts','geo_tag_city_name'])\n",
    "data_new_y=DA['counts']"
   ]
  },
  {
   "cell_type": "code",
   "execution_count": 196,
   "metadata": {
    "scrolled": true
   },
   "outputs": [
    {
     "data": {
      "text/html": [
       "<div>\n",
       "<style scoped>\n",
       "    .dataframe tbody tr th:only-of-type {\n",
       "        vertical-align: middle;\n",
       "    }\n",
       "\n",
       "    .dataframe tbody tr th {\n",
       "        vertical-align: top;\n",
       "    }\n",
       "\n",
       "    .dataframe thead th {\n",
       "        text-align: right;\n",
       "    }\n",
       "</style>\n",
       "<table border=\"1\" class=\"dataframe\">\n",
       "  <thead>\n",
       "    <tr style=\"text-align: right;\">\n",
       "      <th></th>\n",
       "      <th>create</th>\n",
       "      <th>geo_tag_city_name</th>\n",
       "      <th>counts</th>\n",
       "      <th>INCOME</th>\n",
       "      <th>percentage</th>\n",
       "      <th>Walk_Score</th>\n",
       "      <th>Bike_Score</th>\n",
       "      <th>WORKDAY</th>\n",
       "      <th>Area</th>\n",
       "      <th>AQI_VALUE</th>\n",
       "      <th>ELEVATION</th>\n",
       "      <th>PRCP</th>\n",
       "      <th>TMAX</th>\n",
       "      <th>season</th>\n",
       "      <th>COUNT_BY_POPULATION</th>\n",
       "    </tr>\n",
       "  </thead>\n",
       "  <tbody>\n",
       "    <tr>\n",
       "      <th>0</th>\n",
       "      <td>2016-01-01</td>\n",
       "      <td>Alameda</td>\n",
       "      <td>2</td>\n",
       "      <td>93427</td>\n",
       "      <td>0.676553</td>\n",
       "      <td>65</td>\n",
       "      <td>73</td>\n",
       "      <td>0.0</td>\n",
       "      <td>27.5</td>\n",
       "      <td>50.271697</td>\n",
       "      <td>155.045081</td>\n",
       "      <td>0.0</td>\n",
       "      <td>57.356678</td>\n",
       "      <td>3</td>\n",
       "      <td>2.556041</td>\n",
       "    </tr>\n",
       "    <tr>\n",
       "      <th>1</th>\n",
       "      <td>2016-01-01</td>\n",
       "      <td>Berkeley</td>\n",
       "      <td>6</td>\n",
       "      <td>114720</td>\n",
       "      <td>0.676553</td>\n",
       "      <td>81</td>\n",
       "      <td>85</td>\n",
       "      <td>0.0</td>\n",
       "      <td>27.1</td>\n",
       "      <td>50.271697</td>\n",
       "      <td>349.900000</td>\n",
       "      <td>0.0</td>\n",
       "      <td>57.356678</td>\n",
       "      <td>3</td>\n",
       "      <td>4.992553</td>\n",
       "    </tr>\n",
       "    <tr>\n",
       "      <th>2</th>\n",
       "      <td>2016-01-01</td>\n",
       "      <td>Dublin</td>\n",
       "      <td>4</td>\n",
       "      <td>128737</td>\n",
       "      <td>0.676553</td>\n",
       "      <td>34</td>\n",
       "      <td>56</td>\n",
       "      <td>0.0</td>\n",
       "      <td>38.6</td>\n",
       "      <td>50.271697</td>\n",
       "      <td>155.045081</td>\n",
       "      <td>0.0</td>\n",
       "      <td>57.356678</td>\n",
       "      <td>3</td>\n",
       "      <td>7.014836</td>\n",
       "    </tr>\n",
       "    <tr>\n",
       "      <th>3</th>\n",
       "      <td>2016-01-01</td>\n",
       "      <td>Fremont</td>\n",
       "      <td>1</td>\n",
       "      <td>112347</td>\n",
       "      <td>0.676553</td>\n",
       "      <td>44</td>\n",
       "      <td>49</td>\n",
       "      <td>0.0</td>\n",
       "      <td>200.6</td>\n",
       "      <td>50.271697</td>\n",
       "      <td>9.100000</td>\n",
       "      <td>0.0</td>\n",
       "      <td>57.356678</td>\n",
       "      <td>3</td>\n",
       "      <td>0.432968</td>\n",
       "    </tr>\n",
       "    <tr>\n",
       "      <th>4</th>\n",
       "      <td>2016-01-01</td>\n",
       "      <td>Hayward</td>\n",
       "      <td>1</td>\n",
       "      <td>69415</td>\n",
       "      <td>0.676553</td>\n",
       "      <td>53</td>\n",
       "      <td>52</td>\n",
       "      <td>0.0</td>\n",
       "      <td>117.4</td>\n",
       "      <td>50.271697</td>\n",
       "      <td>155.045081</td>\n",
       "      <td>0.0</td>\n",
       "      <td>57.356678</td>\n",
       "      <td>3</td>\n",
       "      <td>0.637280</td>\n",
       "    </tr>\n",
       "    <tr>\n",
       "      <th>5</th>\n",
       "      <td>2016-01-01</td>\n",
       "      <td>Livermore</td>\n",
       "      <td>1</td>\n",
       "      <td>111950</td>\n",
       "      <td>0.676553</td>\n",
       "      <td>37</td>\n",
       "      <td>64</td>\n",
       "      <td>0.0</td>\n",
       "      <td>65.2</td>\n",
       "      <td>41.000000</td>\n",
       "      <td>146.300000</td>\n",
       "      <td>0.0</td>\n",
       "      <td>46.000000</td>\n",
       "      <td>3</td>\n",
       "      <td>1.133376</td>\n",
       "    </tr>\n",
       "    <tr>\n",
       "      <th>6</th>\n",
       "      <td>2016-01-01</td>\n",
       "      <td>Newark</td>\n",
       "      <td>4</td>\n",
       "      <td>91103</td>\n",
       "      <td>0.676553</td>\n",
       "      <td>47</td>\n",
       "      <td>45</td>\n",
       "      <td>0.0</td>\n",
       "      <td>35.9</td>\n",
       "      <td>50.271697</td>\n",
       "      <td>155.045081</td>\n",
       "      <td>0.0</td>\n",
       "      <td>57.356678</td>\n",
       "      <td>3</td>\n",
       "      <td>8.780788</td>\n",
       "    </tr>\n",
       "    <tr>\n",
       "      <th>7</th>\n",
       "      <td>2016-01-01</td>\n",
       "      <td>Oakland</td>\n",
       "      <td>8</td>\n",
       "      <td>60472</td>\n",
       "      <td>0.676553</td>\n",
       "      <td>72</td>\n",
       "      <td>65</td>\n",
       "      <td>0.0</td>\n",
       "      <td>144.5</td>\n",
       "      <td>13.000000</td>\n",
       "      <td>120.400000</td>\n",
       "      <td>0.0</td>\n",
       "      <td>57.356678</td>\n",
       "      <td>3</td>\n",
       "      <td>1.916434</td>\n",
       "    </tr>\n",
       "    <tr>\n",
       "      <th>8</th>\n",
       "      <td>2016-01-01</td>\n",
       "      <td>San Leandro</td>\n",
       "      <td>1</td>\n",
       "      <td>76781</td>\n",
       "      <td>0.676553</td>\n",
       "      <td>62</td>\n",
       "      <td>55</td>\n",
       "      <td>0.0</td>\n",
       "      <td>34.6</td>\n",
       "      <td>50.271697</td>\n",
       "      <td>155.045081</td>\n",
       "      <td>0.0</td>\n",
       "      <td>57.356678</td>\n",
       "      <td>3</td>\n",
       "      <td>1.112223</td>\n",
       "    </tr>\n",
       "    <tr>\n",
       "      <th>9</th>\n",
       "      <td>2016-01-01</td>\n",
       "      <td>Union City</td>\n",
       "      <td>2</td>\n",
       "      <td>93050</td>\n",
       "      <td>0.676553</td>\n",
       "      <td>44</td>\n",
       "      <td>49</td>\n",
       "      <td>0.0</td>\n",
       "      <td>50.4</td>\n",
       "      <td>50.271697</td>\n",
       "      <td>155.045081</td>\n",
       "      <td>0.0</td>\n",
       "      <td>57.356678</td>\n",
       "      <td>3</td>\n",
       "      <td>2.689835</td>\n",
       "    </tr>\n",
       "  </tbody>\n",
       "</table>\n",
       "</div>"
      ],
      "text/plain": [
       "       create geo_tag_city_name  counts  INCOME  percentage  Walk_Score  \\\n",
       "0  2016-01-01           Alameda       2   93427    0.676553          65   \n",
       "1  2016-01-01          Berkeley       6  114720    0.676553          81   \n",
       "2  2016-01-01            Dublin       4  128737    0.676553          34   \n",
       "3  2016-01-01           Fremont       1  112347    0.676553          44   \n",
       "4  2016-01-01           Hayward       1   69415    0.676553          53   \n",
       "5  2016-01-01         Livermore       1  111950    0.676553          37   \n",
       "6  2016-01-01            Newark       4   91103    0.676553          47   \n",
       "7  2016-01-01           Oakland       8   60472    0.676553          72   \n",
       "8  2016-01-01       San Leandro       1   76781    0.676553          62   \n",
       "9  2016-01-01        Union City       2   93050    0.676553          44   \n",
       "\n",
       "   Bike_Score  WORKDAY   Area  AQI_VALUE   ELEVATION  PRCP       TMAX  season  \\\n",
       "0          73      0.0   27.5  50.271697  155.045081   0.0  57.356678       3   \n",
       "1          85      0.0   27.1  50.271697  349.900000   0.0  57.356678       3   \n",
       "2          56      0.0   38.6  50.271697  155.045081   0.0  57.356678       3   \n",
       "3          49      0.0  200.6  50.271697    9.100000   0.0  57.356678       3   \n",
       "4          52      0.0  117.4  50.271697  155.045081   0.0  57.356678       3   \n",
       "5          64      0.0   65.2  41.000000  146.300000   0.0  46.000000       3   \n",
       "6          45      0.0   35.9  50.271697  155.045081   0.0  57.356678       3   \n",
       "7          65      0.0  144.5  13.000000  120.400000   0.0  57.356678       3   \n",
       "8          55      0.0   34.6  50.271697  155.045081   0.0  57.356678       3   \n",
       "9          49      0.0   50.4  50.271697  155.045081   0.0  57.356678       3   \n",
       "\n",
       "   COUNT_BY_POPULATION  \n",
       "0             2.556041  \n",
       "1             4.992553  \n",
       "2             7.014836  \n",
       "3             0.432968  \n",
       "4             0.637280  \n",
       "5             1.133376  \n",
       "6             8.780788  \n",
       "7             1.916434  \n",
       "8             1.112223  \n",
       "9             2.689835  "
      ]
     },
     "execution_count": 196,
     "metadata": {},
     "output_type": "execute_result"
    }
   ],
   "source": [
    "DA.head(10)"
   ]
  },
  {
   "cell_type": "markdown",
   "metadata": {},
   "source": [
    "# Creat x and y (dummy)"
   ]
  },
  {
   "cell_type": "code",
   "execution_count": 198,
   "metadata": {},
   "outputs": [],
   "source": [
    "New_dummy['season'] = pd.get_dummies(New_dummy['season'])\n",
    "New_dummy['WORKDAY'] = pd.get_dummies(New_dummy['WORKDAY'])"
   ]
  },
  {
   "cell_type": "code",
   "execution_count": 199,
   "metadata": {},
   "outputs": [],
   "source": [
    "DA_1=New_dummy.drop(columns=['Population'])\n",
    "data_new_1_x=DA_1.drop(columns=['create','counts','geo_tag_city_name'])\n",
    "data_new_1_y=DA_1['counts']"
   ]
  },
  {
   "cell_type": "markdown",
   "metadata": {},
   "source": [
    "# Linear Model"
   ]
  },
  {
   "cell_type": "markdown",
   "metadata": {},
   "source": [
    "# train:test=80:20 (non dummy)"
   ]
  },
  {
   "cell_type": "code",
   "execution_count": 204,
   "metadata": {},
   "outputs": [],
   "source": [
    "from sklearn import datasets, linear_model\n",
    "from sklearn.model_selection import train_test_split\n",
    "from matplotlib import pyplot as plt\n",
    "from numpy import array\n",
    "from sklearn.model_selection import KFold\n",
    "X_train, X_test, y_train, y_test = train_test_split(data_new_x, data_new_y, test_size=0.2)\n",
    "lm = linear_model.LinearRegression()\n",
    "model = lm.fit(X_train, y_train)\n",
    "predictions = lm.predict(X_test) \n",
    "#X_train, X_test, y_train, y_test = train_test_split(data_new_x, data_new_y, test_size=0.2)"
   ]
  },
  {
   "cell_type": "code",
   "execution_count": 201,
   "metadata": {},
   "outputs": [
    {
     "data": {
      "text/plain": [
       "array([ 1.02101346e-05, -3.90559603e+01,  2.20684135e-01, -2.72808436e-02,\n",
       "        4.17826481e-02,  9.64551558e-02, -8.40893126e-03, -1.37057319e-03,\n",
       "        4.72588823e-01,  3.13337519e-02,  6.16069014e-02,  1.69913605e-01])"
      ]
     },
     "execution_count": 201,
     "metadata": {},
     "output_type": "execute_result"
    }
   ],
   "source": [
    "lm.coef_"
   ]
  },
  {
   "cell_type": "code",
   "execution_count": 202,
   "metadata": {},
   "outputs": [
    {
     "name": "stdout",
     "output_type": "stream",
     "text": [
      "73.09971767413\n",
      "8.549837289336564\n"
     ]
    }
   ],
   "source": [
    "from sklearn import metrics\n",
    "print(metrics.mean_squared_error(y_test, predictions))\n",
    "print(np.sqrt(metrics.mean_squared_error(y_test, predictions)))"
   ]
  },
  {
   "cell_type": "code",
   "execution_count": 203,
   "metadata": {},
   "outputs": [
    {
     "data": {
      "text/plain": [
       "0.6447965404940756"
      ]
     },
     "execution_count": 203,
     "metadata": {},
     "output_type": "execute_result"
    }
   ],
   "source": [
    "lm.score(X_train, y_train)"
   ]
  },
  {
   "cell_type": "code",
   "execution_count": 22,
   "metadata": {},
   "outputs": [
    {
     "data": {
      "text/plain": [
       "Text(0, 0.5, 'Predictions')"
      ]
     },
     "execution_count": 22,
     "metadata": {},
     "output_type": "execute_result"
    },
    {
     "data": {
      "image/png": "[encoded data removed]",
      "text/plain": [
       "<Figure size 576x396 with 1 Axes>"
      ]
     },
     "metadata": {},
     "output_type": "display_data"
    }
   ],
   "source": [
    "scat=plt.scatter(y_test,predictions)\n",
    "plt.xlabel('True Values')\n",
    "plt.ylabel('Predictions')"
   ]
  },
  {
   "cell_type": "markdown",
   "metadata": {},
   "source": [
    "# linear model (residual plots)"
   ]
  },
  {
   "cell_type": "code",
   "execution_count": 23,
   "metadata": {},
   "outputs": [
    {
     "data": {
      "image/png": "[encoded data removed]",
      "text/plain": [
       "<Figure size 576x396 with 2 Axes>"
      ]
     },
     "metadata": {},
     "output_type": "display_data"
    }
   ],
   "source": [
    "from sklearn.linear_model import Ridge\n",
    "from yellowbrick.regressor import ResidualsPlot\n",
    "\n",
    "# Instantiate the linear model and visualizer\n",
    "ridge = Ridge()\n",
    "visualizer = ResidualsPlot(ridge)\n",
    "\n",
    "visualizer.fit(X_train, y_train)  # Fit the training data to the model\n",
    "visualizer.score(X_test, y_test) \n",
    "ax = plt.gca()"
   ]
  },
  {
   "cell_type": "code",
   "execution_count": 24,
   "metadata": {},
   "outputs": [
    {
     "data": {
      "image/png": "[encoded data removed]",
      "text/plain": [
       "<Figure size 576x396 with 1 Axes>"
      ]
     },
     "metadata": {},
     "output_type": "display_data"
    }
   ],
   "source": [
    "visualizer = ResidualsPlot(ridge, hist=False)\n",
    "visualizer.fit(X_train, y_train)\n",
    "visualizer.score(X_test, y_test)\n",
    "ax = plt.gca()\n",
    "visualizer.poof()"
   ]
  },
  {
   "cell_type": "markdown",
   "metadata": {},
   "source": [
    "# Train:test=60:40 (non dummy)"
   ]
  },
  {
   "cell_type": "code",
   "execution_count": 149,
   "metadata": {},
   "outputs": [],
   "source": [
    "from sklearn import datasets, linear_model\n",
    "from sklearn.model_selection import train_test_split\n",
    "from matplotlib import pyplot as plt\n",
    "from numpy import array\n",
    "from sklearn.model_selection import KFold\n",
    "X_train, X_test, y_train, y_test = train_test_split(data_new_x, data_new_y, test_size=0.4)\n",
    "lm = linear_model.LinearRegression()\n",
    "model = lm.fit(X_train, y_train)\n",
    "predictions = lm.predict(X_test) "
   ]
  },
  {
   "cell_type": "code",
   "execution_count": 150,
   "metadata": {},
   "outputs": [
    {
     "name": "stdout",
     "output_type": "stream",
     "text": [
      "72.11814689832556\n",
      "8.492240393342946\n"
     ]
    }
   ],
   "source": [
    "from sklearn import metrics\n",
    "print(metrics.mean_squared_error(y_test, predictions))\n",
    "print(np.sqrt(metrics.mean_squared_error(y_test, predictions)))"
   ]
  },
  {
   "cell_type": "code",
   "execution_count": 151,
   "metadata": {},
   "outputs": [
    {
     "data": {
      "text/plain": [
       "0.6502762949341939"
      ]
     },
     "execution_count": 151,
     "metadata": {},
     "output_type": "execute_result"
    }
   ],
   "source": [
    "lm.score(X_train, y_train)"
   ]
  },
  {
   "cell_type": "markdown",
   "metadata": {},
   "source": [
    "# Train:test=80:20 (dummy)"
   ]
  },
  {
   "cell_type": "code",
   "execution_count": 169,
   "metadata": {},
   "outputs": [],
   "source": [
    "from sklearn import datasets, linear_model\n",
    "from sklearn.model_selection import train_test_split\n",
    "from matplotlib import pyplot as plt\n",
    "from numpy import array\n",
    "from sklearn.model_selection import KFold\n",
    "X_train, X_test, y_train, y_test = train_test_split(data_new_1_x, data_new_1_y, test_size=0.2)\n",
    "lm = linear_model.LinearRegression()\n",
    "model = lm.fit(X_train, y_train)\n",
    "predictions = lm.predict(X_test) "
   ]
  },
  {
   "cell_type": "code",
   "execution_count": 170,
   "metadata": {},
   "outputs": [
    {
     "name": "stdout",
     "output_type": "stream",
     "text": [
      "64.38309343808577\n",
      "8.023907616497448\n"
     ]
    }
   ],
   "source": [
    "from sklearn import metrics\n",
    "print(metrics.mean_squared_error(y_test, predictions))\n",
    "print(np.sqrt(metrics.mean_squared_error(y_test, predictions)))"
   ]
  },
  {
   "cell_type": "code",
   "execution_count": 171,
   "metadata": {},
   "outputs": [
    {
     "data": {
      "text/plain": [
       "0.6438261102283269"
      ]
     },
     "execution_count": 171,
     "metadata": {},
     "output_type": "execute_result"
    }
   ],
   "source": [
    "lm.score(X_train, y_train)"
   ]
  },
  {
   "cell_type": "markdown",
   "metadata": {},
   "source": [
    "# Logistic model"
   ]
  },
  {
   "cell_type": "markdown",
   "metadata": {},
   "source": [
    "# train:test=75:25 (counts<2, binary, non-dummy)"
   ]
  },
  {
   "cell_type": "code",
   "execution_count": 205,
   "metadata": {},
   "outputs": [],
   "source": [
    "from sklearn.linear_model import LogisticRegression\n",
    "from sklearn.datasets import load_digits\n",
    "import matplotlib.pyplot as plt"
   ]
  },
  {
   "cell_type": "code",
   "execution_count": 206,
   "metadata": {},
   "outputs": [
    {
     "name": "stdout",
     "output_type": "stream",
     "text": [
      "0.039831541615870554\n",
      "0.1995784096937105\n"
     ]
    }
   ],
   "source": [
    "y = []\n",
    "for c in NEW['COUNT_BY_POPULATION']:\n",
    "    if c <=2:\n",
    "        y.append(0)\n",
    "    else:\n",
    "        y.append(1)\n",
    "x = NEW.drop(columns=['create','counts','geo_tag_city_name'])\n",
    "def predict(validation):\n",
    "    result = []\n",
    "    for i in range(len(validation)):\n",
    "        posterior = validation[i][1]\n",
    "        if(posterior< 0.5):\n",
    "            result.append(0)\n",
    "        else:\n",
    "            result.append(1)\n",
    "    return result\n",
    "x_train, x_valid, y_train, y_valid = train_test_split(x, y, test_size=0.25)\n",
    "\n",
    "LRmodel = LogisticRegression()\n",
    "LRmodel.fit(x_train, y_train)\n",
    "\n",
    "validation = LRmodel.predict_proba(x_valid)\n",
    "prediction = predict(validation)\n",
    "from sklearn import metrics\n",
    "print(metrics.mean_squared_error(y_valid, prediction))\n",
    "print(np.sqrt(metrics.mean_squared_error(y_valid, prediction)))"
   ]
  },
  {
   "cell_type": "code",
   "execution_count": 207,
   "metadata": {},
   "outputs": [
    {
     "data": {
      "text/plain": [
       "0.9601684583841295"
      ]
     },
     "execution_count": 207,
     "metadata": {},
     "output_type": "execute_result"
    }
   ],
   "source": [
    "from sklearn.metrics import accuracy_score\n",
    "accuracy_score(y_valid, prediction)"
   ]
  },
  {
   "cell_type": "markdown",
   "metadata": {},
   "source": [
    "# train:test=60:40 (counts<6, binary, non-dummy)"
   ]
  },
  {
   "cell_type": "code",
   "execution_count": 208,
   "metadata": {},
   "outputs": [
    {
     "name": "stdout",
     "output_type": "stream",
     "text": [
      "0.0902416047877646\n",
      "0.300402404763618\n"
     ]
    }
   ],
   "source": [
    "y = []\n",
    "for c in NEW['COUNT_BY_POPULATION']:\n",
    "    if c <=6:\n",
    "        y.append(0)\n",
    "    else:\n",
    "        y.append(1)\n",
    "x = NEW.drop(columns=['create','counts','geo_tag_city_name'])\n",
    "def predict(validation):\n",
    "    result = []\n",
    "    for i in range(len(validation)):\n",
    "        posterior = validation[i][1]\n",
    "        if(posterior< 0.5):\n",
    "            result.append(0)\n",
    "        else:\n",
    "            result.append(1)\n",
    "    return result\n",
    "x_train, x_valid, y_train, y_valid = train_test_split(x, y, test_size=0.4)\n",
    "\n",
    "LRmodel = LogisticRegression()\n",
    "LRmodel.fit(x_train, y_train)\n",
    "\n",
    "validation = LRmodel.predict_proba(x_valid)\n",
    "prediction = predict(validation)\n",
    "from sklearn import metrics\n",
    "print(metrics.mean_squared_error(y_valid, prediction))\n",
    "print(np.sqrt(metrics.mean_squared_error(y_valid, prediction)))"
   ]
  },
  {
   "cell_type": "code",
   "execution_count": 155,
   "metadata": {},
   "outputs": [
    {
     "data": {
      "text/plain": [
       "0.9430898814141638"
      ]
     },
     "execution_count": 155,
     "metadata": {},
     "output_type": "execute_result"
    }
   ],
   "source": [
    "from sklearn.metrics import accuracy_score\n",
    "accuracy_score(y_valid, prediction)"
   ]
  },
  {
   "cell_type": "markdown",
   "metadata": {},
   "source": [
    "# train:test=75:25 (counts<2, binary, non-dummy)"
   ]
  },
  {
   "cell_type": "code",
   "execution_count": 120,
   "metadata": {},
   "outputs": [],
   "source": [
    "y = []\n",
    "for c in NEW['COUNT_BY_POPULATION']:\n",
    "    if c <=6:\n",
    "        y.append(0)\n",
    "    else:\n",
    "        y.append(1)"
   ]
  },
  {
   "cell_type": "code",
   "execution_count": 121,
   "metadata": {},
   "outputs": [],
   "source": [
    "x = NEW.drop(columns=['create','counts','geo_tag_city_name'])"
   ]
  },
  {
   "cell_type": "code",
   "execution_count": 122,
   "metadata": {},
   "outputs": [],
   "source": [
    "def predict(validation):\n",
    "    result = []\n",
    "    for i in range(len(validation)):\n",
    "        posterior = validation[i][1]\n",
    "        if(posterior< 0.5):\n",
    "            result.append(0)\n",
    "        else:\n",
    "            result.append(1)\n",
    "    return result"
   ]
  },
  {
   "cell_type": "code",
   "execution_count": 123,
   "metadata": {},
   "outputs": [],
   "source": [
    "x_train, x_valid, y_train, y_valid = train_test_split(x, y, test_size=0.25)\n",
    "\n",
    "LRmodel = LogisticRegression()\n",
    "LRmodel.fit(x_train, y_train)\n",
    "\n",
    "validation = LRmodel.predict_proba(x_valid)\n",
    "prediction = predict(validation)"
   ]
  },
  {
   "cell_type": "code",
   "execution_count": 124,
   "metadata": {},
   "outputs": [
    {
     "name": "stdout",
     "output_type": "stream",
     "text": [
      "0.09961210240496508\n",
      "0.31561385014755783\n"
     ]
    }
   ],
   "source": [
    "from sklearn import metrics\n",
    "print(metrics.mean_squared_error(y_valid, prediction))\n",
    "print(np.sqrt(metrics.mean_squared_error(y_valid, prediction)))"
   ]
  },
  {
   "cell_type": "code",
   "execution_count": 126,
   "metadata": {},
   "outputs": [
    {
     "data": {
      "text/plain": [
       "0.9003878975950349"
      ]
     },
     "execution_count": 126,
     "metadata": {},
     "output_type": "execute_result"
    }
   ],
   "source": [
    "from sklearn.metrics import accuracy_score\n",
    "accuracy_score(y_valid, prediction)"
   ]
  },
  {
   "cell_type": "code",
   "execution_count": 64,
   "metadata": {},
   "outputs": [
    {
     "data": {
      "text/plain": [
       "<matplotlib.collections.PathCollection at 0x1c3918a3c8>"
      ]
     },
     "execution_count": 64,
     "metadata": {},
     "output_type": "execute_result"
    },
    {
     "data": {
      "image/png": "[encoded data removed]",
      "text/plain": [
       "<Figure size 576x396 with 1 Axes>"
      ]
     },
     "metadata": {},
     "output_type": "display_data"
    }
   ],
   "source": [
    "plt.scatter(y_valid, prediction)"
   ]
  },
  {
   "cell_type": "markdown",
   "metadata": {},
   "source": [
    "# train:test=75:25 (counts<6, binary, dummy)"
   ]
  },
  {
   "cell_type": "code",
   "execution_count": 185,
   "metadata": {},
   "outputs": [],
   "source": [
    "SEASON = pd.get_dummies(NEW['season'])\n",
    "WORKDAY = pd.get_dummies(NEW['WORKDAY'])\n",
    "new_x = pd.concat([x,SEASON,WORKDAY],axis = 1)"
   ]
  },
  {
   "cell_type": "code",
   "execution_count": 186,
   "metadata": {},
   "outputs": [],
   "source": [
    "x_train, x_valid, y_train, y_valid = train_test_split(new_x, y, test_size=0.25)"
   ]
  },
  {
   "cell_type": "code",
   "execution_count": 187,
   "metadata": {},
   "outputs": [],
   "source": [
    "x_train, x_valid, y_train, y_valid = train_test_split(x, y, test_size=0.25)\n",
    "\n",
    "LRmodel = LogisticRegression()\n",
    "LRmodel.fit(x_train, y_train)\n",
    "\n",
    "validation = LRmodel.predict_proba(x_valid)\n",
    "prediction = predict(validation)"
   ]
  },
  {
   "cell_type": "code",
   "execution_count": 188,
   "metadata": {},
   "outputs": [
    {
     "name": "stdout",
     "output_type": "stream",
     "text": [
      "0.05357419926853596\n"
     ]
    },
    {
     "data": {
      "text/plain": [
       "0.23146101025558485"
      ]
     },
     "execution_count": 188,
     "metadata": {},
     "output_type": "execute_result"
    }
   ],
   "source": [
    "from sklearn import metrics\n",
    "print(metrics.mean_squared_error(y_valid, prediction))\n",
    "np.sqrt(metrics.mean_squared_error(y_valid, prediction))"
   ]
  },
  {
   "cell_type": "code",
   "execution_count": 189,
   "metadata": {},
   "outputs": [
    {
     "data": {
      "text/plain": [
       "0.946425800731464"
      ]
     },
     "execution_count": 189,
     "metadata": {},
     "output_type": "execute_result"
    }
   ],
   "source": [
    "from sklearn.metrics import accuracy_score\n",
    "accuracy_score(y_valid, prediction)"
   ]
  },
  {
   "cell_type": "code",
   "execution_count": 72,
   "metadata": {},
   "outputs": [
    {
     "data": {
      "text/plain": [
       "<matplotlib.collections.PathCollection at 0x1a20168c18>"
      ]
     },
     "execution_count": 72,
     "metadata": {},
     "output_type": "execute_result"
    },
    {
     "data": {
      "image/png": "[encoded data removed]",
      "text/plain": [
       "<Figure size 576x396 with 1 Axes>"
      ]
     },
     "metadata": {},
     "output_type": "display_data"
    }
   ],
   "source": [
    "plt.scatter(y_valid, prediction)"
   ]
  },
  {
   "cell_type": "markdown",
   "metadata": {},
   "source": [
    "# poisson linear model"
   ]
  },
  {
   "cell_type": "markdown",
   "metadata": {},
   "source": [
    "# train:test=80:20 (non - dummy)"
   ]
  },
  {
   "cell_type": "code",
   "execution_count": 127,
   "metadata": {},
   "outputs": [],
   "source": [
    "X_train, X_test, y_train, y_test = train_test_split(data_new_x, data_new_y, test_size=0.2)"
   ]
  },
  {
   "cell_type": "code",
   "execution_count": 128,
   "metadata": {},
   "outputs": [],
   "source": [
    "TR=pd.concat([X_train, y_train], axis=1, sort=False)\n",
    "TE=pd.concat([X_test, y_test], axis=1, sort=False)"
   ]
  },
  {
   "cell_type": "code",
   "execution_count": 129,
   "metadata": {
    "scrolled": false
   },
   "outputs": [
    {
     "name": "stdout",
     "output_type": "stream",
     "text": [
      "                 Generalized Linear Model Regression Results                  \n",
      "==============================================================================\n",
      "Dep. Variable:                 counts   No. Observations:               144366\n",
      "Model:                            GLM   Df Residuals:                   144354\n",
      "Model Family:                 Poisson   Df Model:                           11\n",
      "Link Function:                    log   Scale:                          1.0000\n",
      "Method:                          IRLS   Log-Likelihood:            -4.3892e+05\n",
      "Date:                Mon, 10 Jun 2019   Deviance:                   5.0370e+05\n",
      "Time:                        16:45:35   Pearson chi2:                 7.80e+05\n",
      "No. Iterations:                    17   Covariance Type:             nonrobust\n",
      "=======================================================================================\n",
      "                          coef    std err          z      P>|z|      [0.025      0.975]\n",
      "---------------------------------------------------------------------------------------\n",
      "Intercept               4.5483      0.042    109.300      0.000       4.467       4.630\n",
      "COUNT_BY_POPULATION     0.0070   2.78e-05    250.874      0.000       0.007       0.007\n",
      "INCOME              -1.464e-06   5.17e-08    -28.287      0.000   -1.57e-06   -1.36e-06\n",
      "percentage             -7.4794      0.058   -129.654      0.000      -7.592      -7.366\n",
      "Walk_Score              0.0148      0.000    129.598      0.000       0.015       0.015\n",
      "Bike_Score              0.0098      0.000     74.900      0.000       0.010       0.010\n",
      "WORKDAY                 0.0013      0.003      0.489      0.625      -0.004       0.007\n",
      "Area                    0.0032   3.02e-06   1069.810      0.000       0.003       0.003\n",
      "ELEVATION           -8.734e-05   7.51e-06    -11.625      0.000      -0.000   -7.26e-05\n",
      "PRCP                    0.0448      0.006      7.891      0.000       0.034       0.056\n",
      "TMAX                    0.0054      0.000     43.331      0.000       0.005       0.006\n",
      "season                  0.0026      0.001      2.179      0.029       0.000       0.005\n",
      "=======================================================================================\n"
     ]
    }
   ],
   "source": [
    "from patsy import dmatrices\n",
    "import statsmodels.api as sm\n",
    "\n",
    "formula = 'counts~COUNT_BY_POPULATION+INCOME+percentage+Walk_Score+Bike_Score+WORKDAY+Area+ELEVATION+PRCP+TMAX+season'\n",
    "\n",
    "response, predictors = dmatrices(formula, TR, return_type='dataframe')\n",
    "po_results = sm.GLM(response, predictors, family=sm.families.Poisson()).fit()\n",
    "print(po_results.summary())"
   ]
  },
  {
   "cell_type": "code",
   "execution_count": 130,
   "metadata": {},
   "outputs": [],
   "source": [
    "R, P = dmatrices(formula, TE, return_type='dataframe')\n",
    "predictions =po_results.predict(P)"
   ]
  },
  {
   "cell_type": "code",
   "execution_count": 131,
   "metadata": {},
   "outputs": [
    {
     "data": {
      "text/plain": [
       "<matplotlib.collections.PathCollection at 0x1a251e0c18>"
      ]
     },
     "execution_count": 131,
     "metadata": {},
     "output_type": "execute_result"
    },
    {
     "data": {
      "image/png": "[encoded data removed]",
      "text/plain": [
       "<Figure size 576x396 with 1 Axes>"
      ]
     },
     "metadata": {},
     "output_type": "display_data"
    }
   ],
   "source": [
    "plt.scatter(TE['counts'],predictions)"
   ]
  },
  {
   "cell_type": "code",
   "execution_count": 132,
   "metadata": {},
   "outputs": [
    {
     "data": {
      "text/plain": [
       "7.236334653174383"
      ]
     },
     "execution_count": 132,
     "metadata": {},
     "output_type": "execute_result"
    }
   ],
   "source": [
    "np.sqrt(metrics.mean_squared_error(TE['counts'], predictions))"
   ]
  },
  {
   "cell_type": "code",
   "execution_count": 133,
   "metadata": {},
   "outputs": [
    {
     "data": {
      "text/plain": [
       "52.36453921273242"
      ]
     },
     "execution_count": 133,
     "metadata": {},
     "output_type": "execute_result"
    }
   ],
   "source": [
    "metrics.mean_squared_error(TE['counts'], predictions)"
   ]
  },
  {
   "cell_type": "code",
   "execution_count": 134,
   "metadata": {},
   "outputs": [
    {
     "data": {
      "text/plain": [
       "0.7231337421786368"
      ]
     },
     "execution_count": 134,
     "metadata": {},
     "output_type": "execute_result"
    }
   ],
   "source": [
    "from sklearn.metrics import r2_score\n",
    "r2_score(TE['counts'], predictions)"
   ]
  },
  {
   "cell_type": "markdown",
   "metadata": {},
   "source": [
    "# train:test=60:40 (non - dummy)"
   ]
  },
  {
   "cell_type": "code",
   "execution_count": 178,
   "metadata": {},
   "outputs": [],
   "source": [
    "X_train, X_test, y_train, y_test = train_test_split(data_new_x, data_new_y, test_size=0.4)\n",
    "TR=pd.concat([X_train, y_train], axis=1, sort=False)\n",
    "TE=pd.concat([X_test, y_test], axis=1, sort=False)\n",
    "from patsy import dmatrices\n",
    "import statsmodels.api as sm\n",
    "\n",
    "formula = 'counts~COUNT_BY_POPULATION+INCOME+percentage+Walk_Score+Bike_Score+WORKDAY+Area+ELEVATION+PRCP+TMAX+season'\n",
    "\n",
    "response, predictors = dmatrices(formula, TR, return_type='dataframe')\n",
    "po_results = sm.GLM(response, predictors, family=sm.families.Poisson()).fit()\n",
    "\n",
    "R, P = dmatrices(formula, TE, return_type='dataframe')\n",
    "predictions =po_results.predict(P)"
   ]
  },
  {
   "cell_type": "code",
   "execution_count": 179,
   "metadata": {},
   "outputs": [
    {
     "data": {
      "text/plain": [
       "7.377517882086308"
      ]
     },
     "execution_count": 179,
     "metadata": {},
     "output_type": "execute_result"
    }
   ],
   "source": [
    "np.sqrt(metrics.mean_squared_error(TE['counts'], predictions))"
   ]
  },
  {
   "cell_type": "code",
   "execution_count": 180,
   "metadata": {},
   "outputs": [
    {
     "data": {
      "text/plain": [
       "54.427770100503245"
      ]
     },
     "execution_count": 180,
     "metadata": {},
     "output_type": "execute_result"
    }
   ],
   "source": [
    "metrics.mean_squared_error(TE['counts'], predictions)"
   ]
  },
  {
   "cell_type": "code",
   "execution_count": 181,
   "metadata": {},
   "outputs": [
    {
     "data": {
      "text/plain": [
       "0.7227384608199307"
      ]
     },
     "execution_count": 181,
     "metadata": {},
     "output_type": "execute_result"
    }
   ],
   "source": [
    "from sklearn.metrics import r2_score\n",
    "r2_score(TE['counts'], predictions)"
   ]
  },
  {
   "cell_type": "markdown",
   "metadata": {},
   "source": [
    "# train:test=80:20 (dummy)"
   ]
  },
  {
   "cell_type": "code",
   "execution_count": 172,
   "metadata": {},
   "outputs": [],
   "source": [
    "X_train, X_test, y_train, y_test = train_test_split(data_new_1_x, data_new_1_y, test_size=0.2)\n",
    "TR=pd.concat([X_train, y_train], axis=1, sort=False)\n",
    "TE=pd.concat([X_test, y_test], axis=1, sort=False)\n",
    "from patsy import dmatrices\n",
    "import statsmodels.api as sm\n",
    "\n",
    "formula = 'counts~COUNT_BY_POPULATION+INCOME+percentage+Walk_Score+Bike_Score+WORKDAY+Area+ELEVATION+PRCP+TMAX+season'\n",
    "\n",
    "response, predictors = dmatrices(formula, TR, return_type='dataframe')\n",
    "po_results = sm.GLM(response, predictors, family=sm.families.Poisson()).fit()\n",
    "\n",
    "R, P = dmatrices(formula, TE, return_type='dataframe')\n",
    "predictions =po_results.predict(P)"
   ]
  },
  {
   "cell_type": "code",
   "execution_count": 173,
   "metadata": {
    "scrolled": true
   },
   "outputs": [
    {
     "data": {
      "text/plain": [
       "8.520032159367267"
      ]
     },
     "execution_count": 173,
     "metadata": {},
     "output_type": "execute_result"
    }
   ],
   "source": [
    "np.sqrt(metrics.mean_squared_error(TE['counts'], predictions))"
   ]
  },
  {
   "cell_type": "code",
   "execution_count": 174,
   "metadata": {},
   "outputs": [
    {
     "data": {
      "text/plain": [
       "72.59094799665246"
      ]
     },
     "execution_count": 174,
     "metadata": {},
     "output_type": "execute_result"
    }
   ],
   "source": [
    "metrics.mean_squared_error(TE['counts'], predictions)"
   ]
  },
  {
   "cell_type": "code",
   "execution_count": 175,
   "metadata": {},
   "outputs": [
    {
     "data": {
      "text/plain": [
       "0.6439009582217925"
      ]
     },
     "execution_count": 175,
     "metadata": {},
     "output_type": "execute_result"
    }
   ],
   "source": [
    "from sklearn.metrics import r2_score\n",
    "r2_score(TE['counts'], predictions)"
   ]
  },
  {
   "cell_type": "markdown",
   "metadata": {},
   "source": [
    "# Random forrest model"
   ]
  },
  {
   "cell_type": "markdown",
   "metadata": {},
   "source": [
    "# train:test=80:20 (non - dummy)"
   ]
  },
  {
   "cell_type": "code",
   "execution_count": 135,
   "metadata": {},
   "outputs": [],
   "source": [
    "#X_train, X_test, y_train, y_test = train_test_split(data_new_2_x, data_new_2_y, test_size=0.2)\n",
    "X_train, X_test, y_train, y_test = train_test_split(data_new_x, data_new_y,test_size=0.2)"
   ]
  },
  {
   "cell_type": "code",
   "execution_count": 136,
   "metadata": {},
   "outputs": [],
   "source": [
    "from sklearn.ensemble import RandomForestClassifier\n",
    "\n",
    "#Create a Gaussian Classifier\n",
    "clf=RandomForestClassifier(n_estimators=20)\n",
    "\n",
    "#Train the model using the training sets y_pred=clf.predict(X_test)"
   ]
  },
  {
   "cell_type": "code",
   "execution_count": 137,
   "metadata": {},
   "outputs": [
    {
     "data": {
      "text/plain": [
       "RandomForestClassifier(bootstrap=True, class_weight=None, criterion='gini',\n",
       "            max_depth=None, max_features='auto', max_leaf_nodes=None,\n",
       "            min_impurity_decrease=0.0, min_impurity_split=None,\n",
       "            min_samples_leaf=1, min_samples_split=2,\n",
       "            min_weight_fraction_leaf=0.0, n_estimators=20, n_jobs=None,\n",
       "            oob_score=False, random_state=None, verbose=0,\n",
       "            warm_start=False)"
      ]
     },
     "execution_count": 137,
     "metadata": {},
     "output_type": "execute_result"
    }
   ],
   "source": [
    "clf.fit(X_train, y_train)"
   ]
  },
  {
   "cell_type": "code",
   "execution_count": 138,
   "metadata": {},
   "outputs": [],
   "source": [
    "y_pred=clf.predict(X_test)"
   ]
  },
  {
   "cell_type": "code",
   "execution_count": 139,
   "metadata": {},
   "outputs": [
    {
     "data": {
      "text/plain": [
       "0.9502659869223097"
      ]
     },
     "execution_count": 139,
     "metadata": {},
     "output_type": "execute_result"
    }
   ],
   "source": [
    "from sklearn.metrics import accuracy_score\n",
    "accuracy_score(y_test, y_pred)"
   ]
  },
  {
   "cell_type": "code",
   "execution_count": 94,
   "metadata": {
    "scrolled": true
   },
   "outputs": [
    {
     "data": {
      "text/plain": [
       "<matplotlib.collections.PathCollection at 0x1a222ec0b8>"
      ]
     },
     "execution_count": 94,
     "metadata": {},
     "output_type": "execute_result"
    },
    {
     "data": {
      "image/png": "[encoded data removed]",
      "text/plain": [
       "<Figure size 576x396 with 1 Axes>"
      ]
     },
     "metadata": {},
     "output_type": "display_data"
    }
   ],
   "source": [
    "plt.scatter(y_pred,y_test)"
   ]
  },
  {
   "cell_type": "code",
   "execution_count": 140,
   "metadata": {},
   "outputs": [
    {
     "name": "stdout",
     "output_type": "stream",
     "text": [
      "3.5019949019173224\n",
      "1.8713617774009712\n"
     ]
    }
   ],
   "source": [
    "from sklearn import metrics\n",
    "print(metrics.mean_squared_error(y_test, y_pred))\n",
    "print(np.sqrt(metrics.mean_squared_error(y_test, y_pred)))"
   ]
  },
  {
   "cell_type": "code",
   "execution_count": 38,
   "metadata": {},
   "outputs": [
    {
     "data": {
      "text/html": [
       "<div>\n",
       "<style scoped>\n",
       "    .dataframe tbody tr th:only-of-type {\n",
       "        vertical-align: middle;\n",
       "    }\n",
       "\n",
       "    .dataframe tbody tr th {\n",
       "        vertical-align: top;\n",
       "    }\n",
       "\n",
       "    .dataframe thead th {\n",
       "        text-align: right;\n",
       "    }\n",
       "</style>\n",
       "<table border=\"1\" class=\"dataframe\">\n",
       "  <thead>\n",
       "    <tr style=\"text-align: right;\">\n",
       "      <th></th>\n",
       "      <th>variable</th>\n",
       "      <th>importance</th>\n",
       "    </tr>\n",
       "  </thead>\n",
       "  <tbody>\n",
       "    <tr>\n",
       "      <th>11</th>\n",
       "      <td>COUNT_BY_POPULATION</td>\n",
       "      <td>0.556175</td>\n",
       "    </tr>\n",
       "    <tr>\n",
       "      <th>5</th>\n",
       "      <td>Area</td>\n",
       "      <td>0.101831</td>\n",
       "    </tr>\n",
       "    <tr>\n",
       "      <th>2</th>\n",
       "      <td>Walk_Score</td>\n",
       "      <td>0.053377</td>\n",
       "    </tr>\n",
       "    <tr>\n",
       "      <th>3</th>\n",
       "      <td>Bike_Score</td>\n",
       "      <td>0.046638</td>\n",
       "    </tr>\n",
       "    <tr>\n",
       "      <th>0</th>\n",
       "      <td>INCOME</td>\n",
       "      <td>0.046119</td>\n",
       "    </tr>\n",
       "    <tr>\n",
       "      <th>9</th>\n",
       "      <td>TMAX</td>\n",
       "      <td>0.045946</td>\n",
       "    </tr>\n",
       "    <tr>\n",
       "      <th>6</th>\n",
       "      <td>AQI_VALUE</td>\n",
       "      <td>0.045683</td>\n",
       "    </tr>\n",
       "    <tr>\n",
       "      <th>7</th>\n",
       "      <td>ELEVATION</td>\n",
       "      <td>0.037217</td>\n",
       "    </tr>\n",
       "    <tr>\n",
       "      <th>1</th>\n",
       "      <td>percentage</td>\n",
       "      <td>0.028898</td>\n",
       "    </tr>\n",
       "    <tr>\n",
       "      <th>8</th>\n",
       "      <td>PRCP</td>\n",
       "      <td>0.018300</td>\n",
       "    </tr>\n",
       "    <tr>\n",
       "      <th>10</th>\n",
       "      <td>season</td>\n",
       "      <td>0.012422</td>\n",
       "    </tr>\n",
       "    <tr>\n",
       "      <th>4</th>\n",
       "      <td>WORKDAY</td>\n",
       "      <td>0.007392</td>\n",
       "    </tr>\n",
       "  </tbody>\n",
       "</table>\n",
       "</div>"
      ],
      "text/plain": [
       "               variable  importance\n",
       "11  COUNT_BY_POPULATION    0.556175\n",
       "5                  Area    0.101831\n",
       "2            Walk_Score    0.053377\n",
       "3            Bike_Score    0.046638\n",
       "0                INCOME    0.046119\n",
       "9                  TMAX    0.045946\n",
       "6             AQI_VALUE    0.045683\n",
       "7             ELEVATION    0.037217\n",
       "1            percentage    0.028898\n",
       "8                  PRCP    0.018300\n",
       "10               season    0.012422\n",
       "4               WORKDAY    0.007392"
      ]
     },
     "execution_count": 38,
     "metadata": {},
     "output_type": "execute_result"
    }
   ],
   "source": [
    "pd.concat((pd.DataFrame(DA.iloc[:, 3:15].columns, columns = ['variable']), \n",
    "           pd.DataFrame(clf.feature_importances_, columns = ['importance'])), \n",
    "          axis = 1).sort_values(by='importance', ascending = False)[:20]"
   ]
  },
  {
   "cell_type": "markdown",
   "metadata": {},
   "source": [
    "# train:test=60:40 (non - dummy)"
   ]
  },
  {
   "cell_type": "code",
   "execution_count": 161,
   "metadata": {},
   "outputs": [
    {
     "data": {
      "text/plain": [
       "0.9450847833314862"
      ]
     },
     "execution_count": 161,
     "metadata": {},
     "output_type": "execute_result"
    }
   ],
   "source": [
    "X_train, X_test, y_train, y_test = train_test_split(data_new_x, data_new_y,test_size=0.4)\n",
    "from sklearn.ensemble import RandomForestClassifier\n",
    "clf=RandomForestClassifier(n_estimators=20)\n",
    "clf.fit(X_train, y_train)\n",
    "y_pred=clf.predict(X_test)\n",
    "from sklearn.metrics import accuracy_score\n",
    "accuracy_score(y_test, y_pred)"
   ]
  },
  {
   "cell_type": "code",
   "execution_count": 162,
   "metadata": {},
   "outputs": [
    {
     "name": "stdout",
     "output_type": "stream",
     "text": [
      "6.788457275850604\n",
      "2.6054668057472163\n"
     ]
    }
   ],
   "source": [
    "from sklearn import metrics\n",
    "print(metrics.mean_squared_error(y_test, y_pred))\n",
    "print(np.sqrt(metrics.mean_squared_error(y_test, y_pred)))"
   ]
  },
  {
   "cell_type": "markdown",
   "metadata": {},
   "source": [
    "# train:test=80:20 (dummy)"
   ]
  },
  {
   "cell_type": "code",
   "execution_count": 176,
   "metadata": {},
   "outputs": [
    {
     "data": {
      "text/plain": [
       "0.9527873212900366"
      ]
     },
     "execution_count": 176,
     "metadata": {},
     "output_type": "execute_result"
    }
   ],
   "source": [
    "X_train, X_test, y_train, y_test = train_test_split(data_new_1_x, data_new_1_y,test_size=0.2)\n",
    "from sklearn.ensemble import RandomForestClassifier\n",
    "clf=RandomForestClassifier(n_estimators=20)\n",
    "clf.fit(X_train, y_train)\n",
    "y_pred=clf.predict(X_test)\n",
    "from sklearn.metrics import accuracy_score\n",
    "accuracy_score(y_test, y_pred)"
   ]
  },
  {
   "cell_type": "code",
   "execution_count": 177,
   "metadata": {
    "scrolled": true
   },
   "outputs": [
    {
     "name": "stdout",
     "output_type": "stream",
     "text": [
      "4.947190513133104\n",
      "2.2242280712941973\n"
     ]
    }
   ],
   "source": [
    "from sklearn import metrics\n",
    "print(metrics.mean_squared_error(y_test, y_pred))\n",
    "print(np.sqrt(metrics.mean_squared_error(y_test, y_pred)))"
   ]
  },
  {
   "cell_type": "code",
   "execution_count": null,
   "metadata": {},
   "outputs": [],
   "source": []
  }
 ],
 "metadata": {
  "kernelspec": {
   "display_name": "Python 3",
   "language": "python",
   "name": "python3"
  },
  "language_info": {
   "codemirror_mode": {
    "name": "ipython",
    "version": 3
   },
   "file_extension": ".py",
   "mimetype": "text/x-python",
   "name": "python",
   "nbconvert_exporter": "python",
   "pygments_lexer": "ipython3",
   "version": "3.7.3"
  }
 },
 "nbformat": 4,
 "nbformat_minor": 2
}
